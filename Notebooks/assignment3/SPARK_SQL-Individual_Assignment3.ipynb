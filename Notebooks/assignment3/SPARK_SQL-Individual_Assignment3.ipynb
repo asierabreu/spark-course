{
 "cells": [
  {
   "cell_type": "markdown",
   "metadata": {},
   "source": [
    "## SPARK MBD-EN-BL ENE-2018 J-1 <img src=\"images/ie.jpg\" width=\"140\" height=\"140\" align=\"right\"/>\n",
    "\n",
    "## Assignment3 : Working with Spark SQL\n",
    "\n",
    "### Concepts :\n",
    "\n",
    "* Creating DataFrames from a big data input data format\n",
    "* Performing basic data analysis using Spark SQL\n",
    "* Saving a DataFrame into partitioned parquet files format\n",
    "* Using UDF function in PySpark\n",
    "\n",
    "### Assignment Dataset :\n",
    "\n",
    "* **Dataset** : format **parquet**\n",
    "* Available in the IE cluster @: /data/home/$YOU/spark_sessions/assignment3/data/\n",
    "* Dataset details : each entry in the dataset contains user name , id ,  salary , title , gender , country , etc\n",
    "\n",
    "\n",
    "### Compulsory Part  ( maximum possible points 10 ):\n",
    "\n",
    "1. Create a DataFrame using SparkSession and loading the input parquet dataset.\n",
    "2. Report the name of the columns and the nb of rows in the dataset. \n",
    "3. Create a in-memory DataFrame and a permantely stored table from this DataFrame.\n",
    "4. Report how many countries appear in the dataset. \n",
    "5. Report the top 10 countries with most users in the dataset. Use of the DataFrame API and a direct SQL query for this.\n",
    "6. Report the avg salary per country in the dataset. Use of the DataFrame API and a direct SQL query for this.\n",
    "7. Report the latest 10 registered users (name and surname) in the dataset , hint use the registration_dttm column\n",
    "8. Report the top 10 salaries from women in United States\n",
    "9. Using a UDF , transform the birthdate column into  timestamp and then report the number of French men in the dataset that were born before 1st January 1980\n",
    "10. Save a subset dataFrame that only contains : id, gender , country , salary , title , birthdate (transformed from previous step) partitioning the output by country and gender into parquet format.\n",
    "\n",
    "### Note : \n",
    "\n",
    "* Usage of User Defined Functions is **only** strictly required for point 9 above\n",
    "\n",
    "### Help :\n",
    "\n",
    "* https://s3.amazonaws.com/assets.datacamp.com/blog_assets/PySpark_SQL_Cheat_Sheet_Python.pdf"
   ]
  },
  {
   "cell_type": "code",
   "execution_count": null,
   "metadata": {
    "collapsed": true
   },
   "outputs": [],
   "source": []
  }
 ],
 "metadata": {
  "kernelspec": {
   "display_name": "Python 3",
   "language": "python",
   "name": "python3"
  },
  "language_info": {
   "codemirror_mode": {
    "name": "ipython",
    "version": 3
   },
   "file_extension": ".py",
   "mimetype": "text/x-python",
   "name": "python",
   "nbconvert_exporter": "python",
   "pygments_lexer": "ipython3",
   "version": "3.6.5"
  }
 },
 "nbformat": 4,
 "nbformat_minor": 2
}
