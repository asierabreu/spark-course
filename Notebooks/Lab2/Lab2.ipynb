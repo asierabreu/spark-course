{
 "cells": [
  {
   "cell_type": "markdown",
   "metadata": {},
   "source": [
    "### Lab2 : Working with Spark SQL\n",
    "\n",
    "We will review :\n",
    "\n",
    "1. Loading CSV file formats using SparkSession\n",
    "2. Creating DataFrame without inferring Schema \n",
    "3. Creating DataFrame inferring Schema \n",
    "4. Creating DataFrame using databricks library that help inferring the schema\n",
    "5. Creating partitioned parquet files format\n",
    "6. Doing some preliminary analysis of this dataset\n",
    "\n",
    "Dataset :\n",
    "\n",
    "* Air flight data - subset of ~ few GBs ( Include reference )\n",
    "\n",
    "Dataset path (in the cluster) :\n",
    "\n",
    "* /data/shared/spark/flight_data/csv_small\n"
   ]
  },
  {
   "cell_type": "code",
   "execution_count": 1,
   "metadata": {},
   "outputs": [],
   "source": [
    "# First Let's start by :\n",
    "# 1. Definining SPARK_HOME variable \n",
    "# 2. Using findspark to  let us work with Spark installation in the cluster"
   ]
  },
  {
   "cell_type": "code",
   "execution_count": 12,
   "metadata": {},
   "outputs": [],
   "source": [
    "import os\n",
    "os.environ['SPARK_HOME']=\"/usr/hdp/current/spark2-client\""
   ]
  },
  {
   "cell_type": "code",
   "execution_count": 3,
   "metadata": {},
   "outputs": [],
   "source": [
    "import findspark\n",
    "findspark.init()\n",
    "import pyspark"
   ]
  },
  {
   "cell_type": "code",
   "execution_count": 4,
   "metadata": {},
   "outputs": [],
   "source": [
    "# Create a SparkSession\n",
    "from pyspark.sql import SparkSession\n",
    "\n",
    "spark = SparkSession \\\n",
    "    .builder \\\n",
    "    .appName(\"Spark-SQL-Lab2\") \\\n",
    "    .getOrCreate()"
   ]
  },
  {
   "cell_type": "code",
   "execution_count": 16,
   "metadata": {},
   "outputs": [
    {
     "name": "stdout",
     "output_type": "stream",
     "text": [
      "<pyspark.sql.session.SparkSession object at 0x7f682c7ceeb8>\n"
     ]
    }
   ],
   "source": [
    "print(spark)"
   ]
  },
  {
   "cell_type": "code",
   "execution_count": 28,
   "metadata": {},
   "outputs": [],
   "source": [
    "dataset_path=\"/data/shared/spark/flight_data/csv_small/\""
   ]
  },
  {
   "cell_type": "code",
   "execution_count": 34,
   "metadata": {},
   "outputs": [],
   "source": [
    "# Read in one of the data files into a data frame\n",
    "df = spark.read \\\n",
    "    .option(\"header\", \"true\") \\\n",
    "    .csv(\"file://\"+dataset_path+\"On_Time_On_Time_Performance_2014_9.csv\")"
   ]
  },
  {
   "cell_type": "code",
   "execution_count": 36,
   "metadata": {},
   "outputs": [
    {
     "name": "stdout",
     "output_type": "stream",
     "text": [
      "root\n",
      " |-- Year: string (nullable = true)\n",
      " |-- Quarter: string (nullable = true)\n",
      " |-- Month: string (nullable = true)\n",
      " |-- DayofMonth: string (nullable = true)\n",
      " |-- DayOfWeek: string (nullable = true)\n",
      " |-- FlightDate: string (nullable = true)\n",
      " |-- UniqueCarrier: string (nullable = true)\n",
      " |-- AirlineID: string (nullable = true)\n",
      " |-- Carrier: string (nullable = true)\n",
      " |-- TailNum: string (nullable = true)\n",
      " |-- FlightNum: string (nullable = true)\n",
      " |-- OriginAirportID: string (nullable = true)\n",
      " |-- OriginAirportSeqID: string (nullable = true)\n",
      " |-- OriginCityMarketID: string (nullable = true)\n",
      " |-- Origin: string (nullable = true)\n",
      " |-- OriginCityName: string (nullable = true)\n",
      " |-- OriginState: string (nullable = true)\n",
      " |-- OriginStateFips: string (nullable = true)\n",
      " |-- OriginStateName: string (nullable = true)\n",
      " |-- OriginWac: string (nullable = true)\n",
      " |-- DestAirportID: string (nullable = true)\n",
      " |-- DestAirportSeqID: string (nullable = true)\n",
      " |-- DestCityMarketID: string (nullable = true)\n",
      " |-- Dest: string (nullable = true)\n",
      " |-- DestCityName: string (nullable = true)\n",
      " |-- DestState: string (nullable = true)\n",
      " |-- DestStateFips: string (nullable = true)\n",
      " |-- DestStateName: string (nullable = true)\n",
      " |-- DestWac: string (nullable = true)\n",
      " |-- CRSDepTime: string (nullable = true)\n",
      " |-- DepTime: string (nullable = true)\n",
      " |-- DepDelay: string (nullable = true)\n",
      " |-- DepDelayMinutes: string (nullable = true)\n",
      " |-- DepDel15: string (nullable = true)\n",
      " |-- DepartureDelayGroups: string (nullable = true)\n",
      " |-- DepTimeBlk: string (nullable = true)\n",
      " |-- TaxiOut: string (nullable = true)\n",
      " |-- WheelsOff: string (nullable = true)\n",
      " |-- WheelsOn: string (nullable = true)\n",
      " |-- TaxiIn: string (nullable = true)\n",
      " |-- CRSArrTime: string (nullable = true)\n",
      " |-- ArrTime: string (nullable = true)\n",
      " |-- ArrDelay: string (nullable = true)\n",
      " |-- ArrDelayMinutes: string (nullable = true)\n",
      " |-- ArrDel15: string (nullable = true)\n",
      " |-- ArrivalDelayGroups: string (nullable = true)\n",
      " |-- ArrTimeBlk: string (nullable = true)\n",
      " |-- Cancelled: string (nullable = true)\n",
      " |-- CancellationCode: string (nullable = true)\n",
      " |-- Diverted: string (nullable = true)\n",
      " |-- CRSElapsedTime: string (nullable = true)\n",
      " |-- ActualElapsedTime: string (nullable = true)\n",
      " |-- AirTime: string (nullable = true)\n",
      " |-- Flights: string (nullable = true)\n",
      " |-- Distance: string (nullable = true)\n",
      " |-- DistanceGroup: string (nullable = true)\n",
      " |-- CarrierDelay: string (nullable = true)\n",
      " |-- WeatherDelay: string (nullable = true)\n",
      " |-- NASDelay: string (nullable = true)\n",
      " |-- SecurityDelay: string (nullable = true)\n",
      " |-- LateAircraftDelay: string (nullable = true)\n",
      " |-- FirstDepTime: string (nullable = true)\n",
      " |-- TotalAddGTime: string (nullable = true)\n",
      " |-- LongestAddGTime: string (nullable = true)\n",
      " |-- DivAirportLandings: string (nullable = true)\n",
      " |-- DivReachedDest: string (nullable = true)\n",
      " |-- DivActualElapsedTime: string (nullable = true)\n",
      " |-- DivArrDelay: string (nullable = true)\n",
      " |-- DivDistance: string (nullable = true)\n",
      " |-- Div1Airport: string (nullable = true)\n",
      " |-- Div1AirportID: string (nullable = true)\n",
      " |-- Div1AirportSeqID: string (nullable = true)\n",
      " |-- Div1WheelsOn: string (nullable = true)\n",
      " |-- Div1TotalGTime: string (nullable = true)\n",
      " |-- Div1LongestGTime: string (nullable = true)\n",
      " |-- Div1WheelsOff: string (nullable = true)\n",
      " |-- Div1TailNum: string (nullable = true)\n",
      " |-- Div2Airport: string (nullable = true)\n",
      " |-- Div2AirportID: string (nullable = true)\n",
      " |-- Div2AirportSeqID: string (nullable = true)\n",
      " |-- Div2WheelsOn: string (nullable = true)\n",
      " |-- Div2TotalGTime: string (nullable = true)\n",
      " |-- Div2LongestGTime: string (nullable = true)\n",
      " |-- Div2WheelsOff: string (nullable = true)\n",
      " |-- Div2TailNum: string (nullable = true)\n",
      " |-- Div3Airport: string (nullable = true)\n",
      " |-- Div3AirportID: string (nullable = true)\n",
      " |-- Div3AirportSeqID: string (nullable = true)\n",
      " |-- Div3WheelsOn: string (nullable = true)\n",
      " |-- Div3TotalGTime: string (nullable = true)\n",
      " |-- Div3LongestGTime: string (nullable = true)\n",
      " |-- Div3WheelsOff: string (nullable = true)\n",
      " |-- Div3TailNum: string (nullable = true)\n",
      " |-- Div4Airport: string (nullable = true)\n",
      " |-- Div4AirportID: string (nullable = true)\n",
      " |-- Div4AirportSeqID: string (nullable = true)\n",
      " |-- Div4WheelsOn: string (nullable = true)\n",
      " |-- Div4TotalGTime: string (nullable = true)\n",
      " |-- Div4LongestGTime: string (nullable = true)\n",
      " |-- Div4WheelsOff: string (nullable = true)\n",
      " |-- Div4TailNum: string (nullable = true)\n",
      " |-- Div5Airport: string (nullable = true)\n",
      " |-- Div5AirportID: string (nullable = true)\n",
      " |-- Div5AirportSeqID: string (nullable = true)\n",
      " |-- Div5WheelsOn: string (nullable = true)\n",
      " |-- Div5TotalGTime: string (nullable = true)\n",
      " |-- Div5LongestGTime: string (nullable = true)\n",
      " |-- Div5WheelsOff: string (nullable = true)\n",
      " |-- Div5TailNum: string (nullable = true)\n",
      " |-- _c109: string (nullable = true)\n",
      "\n"
     ]
    }
   ],
   "source": [
    "df.printSchema()"
   ]
  },
  {
   "cell_type": "code",
   "execution_count": 42,
   "metadata": {},
   "outputs": [
    {
     "name": "stdout",
     "output_type": "stream",
     "text": [
      "Reading input data for year:2014 month:1\n",
      "Reading input data for year:2014 month:2\n",
      "Reading input data for year:2014 month:3\n",
      "Reading input data for year:2014 month:4\n",
      "Reading input data for year:2014 month:5\n",
      "Reading input data for year:2014 month:6\n",
      "Reading input data for year:2014 month:7\n",
      "Reading input data for year:2014 month:8\n",
      "Reading input data for year:2014 month:9\n",
      "Reading input data for year:2014 month:10\n",
      "Reading input data for year:2014 month:11\n",
      "Reading input data for year:2014 month:12\n",
      "Reading input data for year:2015 month:1\n",
      "Reading input data for year:2015 month:2\n",
      "Reading input data for year:2015 month:3\n",
      "Reading input data for year:2015 month:4\n",
      "Reading input data for year:2015 month:5\n",
      "Reading input data for year:2015 month:6\n",
      "Reading input data for year:2015 month:7\n",
      "Reading input data for year:2015 month:8\n",
      "Reading input data for year:2015 month:9\n",
      "Reading input data for year:2015 month:10\n",
      "Reading input data for year:2015 month:11\n",
      "Reading input data for year:2015 month:12\n",
      "Done!\n"
     ]
    }
   ],
   "source": [
    "# Read CSV data into a dictionary of DataFrame : try to infer schema directly from the data\n",
    "import itertools\n",
    "year_list = ['2014','2015']\n",
    "month_list = ['1','2','3','4','5','6','7','8','9','10','11','12']\n",
    "\n",
    "dict_df = {}\n",
    "# Time the operation\n",
    "for (year_str,month_str) in list(itertools.product(year_list,month_list)):\n",
    "    year_month_str = '%s_%s'%(year_str,month_str)\n",
    "    print('Reading input data for year:%s month:%s'%(year_str,month_str))\n",
    "    df = spark.read \\\n",
    "        .option(\"header\", \"true\") \\\n",
    "        .option(\"inferSchema\", \"true\") \\\n",
    "        .csv(\"file://\"+dataset_path+\"On_Time_On_Time_Performance_%s.csv\"%(year_month_str))  \n",
    "    df.cache()\n",
    "    dict_df[year_month_str]=df\n",
    "print('Done!')"
   ]
  },
  {
   "cell_type": "code",
   "execution_count": null,
   "metadata": {},
   "outputs": [],
   "source": [
    "# Create DataFrame : inferring Schema Using Databricks library\n",
    "df_with_db = spark.read \\\n",
    "    .format(\"com.databricks.spark.csv\") \\\n",
    "    .option(\"header\", \"true\") \\\n",
    "    .option(\"inferSchema\", \"true\") \\\n",
    "    .load(dataset_path+\"*.csv\")"
   ]
  }
 ],
 "metadata": {
  "kernelspec": {
   "display_name": "Python 3",
   "language": "python",
   "name": "python3"
  },
  "language_info": {
   "codemirror_mode": {
    "name": "ipython",
    "version": 3
   },
   "file_extension": ".py",
   "mimetype": "text/x-python",
   "name": "python",
   "nbconvert_exporter": "python",
   "pygments_lexer": "ipython3",
   "version": "3.6.4"
  }
 },
 "nbformat": 4,
 "nbformat_minor": 2
}
