{
 "cells": [
  {
   "cell_type": "markdown",
   "metadata": {},
   "source": [
    "### Assignment3 : Working with Spark SQL\n",
    "\n",
    "#### Concepts :\n",
    "\n",
    "* Creating DataFrames from CSV input data format\n",
    "* Performing basic data analysis using Spark SQL\n",
    "* Saving a DataFrame into partitioned parquet files format\n",
    "\n",
    "#### Assignment Dataset :\n",
    "\n",
    "* Air flight data - subset of ~ 100 MB (for demonstration purposes)\n",
    "* Available in the IE cluster @: /data/shared/spark/flight_data/csv_tiny\n",
    "\n",
    "#### Compulsory Part :\n",
    "\n",
    "1. Create a DataFrame by loading the input CSV dataset.\n",
    "2. Report the name of the columns and the nb of rows in the dataset. \n",
    "3. Create a in-memory DataFrame and a permantely stored table from this DataFrame.\n",
    "4. Report the top 10 airport with most departures in the dataset. Make both use of the DataFrame API and a direct SQL query for this.\n",
    "5. Save a subset DataFrame that only contains carrier , airport and departure delays , partitioning the output by carrier and airport into parquet format.\n",
    "\n",
    "#### Bonus Part :\n",
    "\n",
    "1. What is the flight with the longest delay\n",
    "2. Report the best , top 5 , carriers ( column carrier ) in terms of smallest average departure delay on all airports.   Consider a flight delayed that one where depdelay > 0 min\n",
    "3. Which destinations are most likely to get delays from JFK?\n",
    "\n",
    "### Note : \n",
    "\n",
    "Usage of User Defined Functions is *not* strictly required for the assignment"
   ]
  },
  {
   "cell_type": "code",
   "execution_count": 9,
   "metadata": {},
   "outputs": [],
   "source": [
    "# You need this to run Spark in the cluster\n",
    "import findspark\n",
    "findspark.init()\n",
    "import pyspark"
   ]
  },
  {
   "cell_type": "code",
   "execution_count": 10,
   "metadata": {},
   "outputs": [],
   "source": [
    "# LOCAL VM DATASET PATH\n",
    "#import os \n",
    "# dataset_path=os.environ['HOME']+\"/spark-course/Notebooks/Lab2/\"\n",
    "# CLUSTER DATASET PATH\n",
    "dataset_path=\"/data/shared/spark/flight_data/csv_tiny/\""
   ]
  },
  {
   "cell_type": "code",
   "execution_count": 11,
   "metadata": {},
   "outputs": [],
   "source": [
    "# Create a SparkSession and specify configuration\n",
    "from pyspark.sql import SparkSession\n",
    "\n",
    "spark = SparkSession \\\n",
    "    .builder \\\n",
    "    .master(\"local[2]\") \\\n",
    "    .appName(\"Assignment3Solution\") \\\n",
    "    .getOrCreate()"
   ]
  },
  {
   "cell_type": "markdown",
   "metadata": {},
   "source": [
    "### Compulsory Part"
   ]
  },
  {
   "cell_type": "code",
   "execution_count": 12,
   "metadata": {},
   "outputs": [
    {
     "data": {
      "text/plain": [
       "DataFrame[Year: int, Quarter: int, Month: int, DayofMonth: int, DayOfWeek: int, FlightDate: timestamp, UniqueCarrier: string, AirlineID: int, Carrier: string, TailNum: string, FlightNum: int, OriginAirportID: int, OriginAirportSeqID: int, OriginCityMarketID: int, Origin: string, OriginCityName: string, OriginState: string, OriginStateFips: int, OriginStateName: string, OriginWac: int, DestAirportID: int, DestAirportSeqID: int, DestCityMarketID: int, Dest: string, DestCityName: string, DestState: string, DestStateFips: int, DestStateName: string, DestWac: int, CRSDepTime: int, DepTime: int, DepDelay: double, DepDelayMinutes: double, DepDel15: double, DepartureDelayGroups: int, DepTimeBlk: string, TaxiOut: double, WheelsOff: int, WheelsOn: int, TaxiIn: double, CRSArrTime: int, ArrTime: int, ArrDelay: double, ArrDelayMinutes: double, ArrDel15: double, ArrivalDelayGroups: int, ArrTimeBlk: string, Cancelled: double, CancellationCode: string, Diverted: double, CRSElapsedTime: double, ActualElapsedTime: double, AirTime: double, Flights: double, Distance: double, DistanceGroup: int, CarrierDelay: double, WeatherDelay: double, NASDelay: double, SecurityDelay: double, LateAircraftDelay: double, FirstDepTime: int, TotalAddGTime: double, LongestAddGTime: double, DivAirportLandings: int, DivReachedDest: double, DivActualElapsedTime: double, DivArrDelay: double, DivDistance: double, Div1Airport: string, Div1AirportID: int, Div1AirportSeqID: int, Div1WheelsOn: int, Div1TotalGTime: double, Div1LongestGTime: double, Div1WheelsOff: int, Div1TailNum: string, Div2Airport: string, Div2AirportID: int, Div2AirportSeqID: int, Div2WheelsOn: int, Div2TotalGTime: double, Div2LongestGTime: double, Div2WheelsOff: int, Div2TailNum: string, Div3Airport: string, Div3AirportID: string, Div3AirportSeqID: string, Div3WheelsOn: string, Div3TotalGTime: string, Div3LongestGTime: string, Div3WheelsOff: string, Div3TailNum: string, Div4Airport: string, Div4AirportID: string, Div4AirportSeqID: string, Div4WheelsOn: string, Div4TotalGTime: string, Div4LongestGTime: string, Div4WheelsOff: string, Div4TailNum: string, Div5Airport: string, Div5AirportID: string, Div5AirportSeqID: string, Div5WheelsOn: string, Div5TotalGTime: string, Div5LongestGTime: string, Div5WheelsOff: string, Div5TailNum: string, _c109: string]"
      ]
     },
     "execution_count": 12,
     "metadata": {},
     "output_type": "execute_result"
    }
   ],
   "source": [
    "# 1. Create a DataFrame by loading the input CSV dataset.\n",
    "df = spark.read \\\n",
    "    .option(\"header\", \"true\") \\\n",
    "    .option(\"inferSchema\", \"true\") \\\n",
    "    .csv(\"file://\"+dataset_path+\"*.csv\")\n",
    "    \n",
    "# Note : caching the dataframe might be a good idea for repeating actions on it\n",
    "df.cache()"
   ]
  },
  {
   "cell_type": "code",
   "execution_count": 5,
   "metadata": {},
   "outputs": [
    {
     "data": {
      "text/plain": [
       "['Year',\n",
       " 'Quarter',\n",
       " 'Month',\n",
       " 'DayofMonth',\n",
       " 'DayOfWeek',\n",
       " 'FlightDate',\n",
       " 'UniqueCarrier',\n",
       " 'AirlineID',\n",
       " 'Carrier',\n",
       " 'TailNum',\n",
       " 'FlightNum',\n",
       " 'OriginAirportID',\n",
       " 'OriginAirportSeqID',\n",
       " 'OriginCityMarketID',\n",
       " 'Origin',\n",
       " 'OriginCityName',\n",
       " 'OriginState',\n",
       " 'OriginStateFips',\n",
       " 'OriginStateName',\n",
       " 'OriginWac',\n",
       " 'DestAirportID',\n",
       " 'DestAirportSeqID',\n",
       " 'DestCityMarketID',\n",
       " 'Dest',\n",
       " 'DestCityName',\n",
       " 'DestState',\n",
       " 'DestStateFips',\n",
       " 'DestStateName',\n",
       " 'DestWac',\n",
       " 'CRSDepTime',\n",
       " 'DepTime',\n",
       " 'DepDelay',\n",
       " 'DepDelayMinutes',\n",
       " 'DepDel15',\n",
       " 'DepartureDelayGroups',\n",
       " 'DepTimeBlk',\n",
       " 'TaxiOut',\n",
       " 'WheelsOff',\n",
       " 'WheelsOn',\n",
       " 'TaxiIn',\n",
       " 'CRSArrTime',\n",
       " 'ArrTime',\n",
       " 'ArrDelay',\n",
       " 'ArrDelayMinutes',\n",
       " 'ArrDel15',\n",
       " 'ArrivalDelayGroups',\n",
       " 'ArrTimeBlk',\n",
       " 'Cancelled',\n",
       " 'CancellationCode',\n",
       " 'Diverted',\n",
       " 'CRSElapsedTime',\n",
       " 'ActualElapsedTime',\n",
       " 'AirTime',\n",
       " 'Flights',\n",
       " 'Distance',\n",
       " 'DistanceGroup',\n",
       " 'CarrierDelay',\n",
       " 'WeatherDelay',\n",
       " 'NASDelay',\n",
       " 'SecurityDelay',\n",
       " 'LateAircraftDelay',\n",
       " 'FirstDepTime',\n",
       " 'TotalAddGTime',\n",
       " 'LongestAddGTime',\n",
       " 'DivAirportLandings',\n",
       " 'DivReachedDest',\n",
       " 'DivActualElapsedTime',\n",
       " 'DivArrDelay',\n",
       " 'DivDistance',\n",
       " 'Div1Airport',\n",
       " 'Div1AirportID',\n",
       " 'Div1AirportSeqID',\n",
       " 'Div1WheelsOn',\n",
       " 'Div1TotalGTime',\n",
       " 'Div1LongestGTime',\n",
       " 'Div1WheelsOff',\n",
       " 'Div1TailNum',\n",
       " 'Div2Airport',\n",
       " 'Div2AirportID',\n",
       " 'Div2AirportSeqID',\n",
       " 'Div2WheelsOn',\n",
       " 'Div2TotalGTime',\n",
       " 'Div2LongestGTime',\n",
       " 'Div2WheelsOff',\n",
       " 'Div2TailNum',\n",
       " 'Div3Airport',\n",
       " 'Div3AirportID',\n",
       " 'Div3AirportSeqID',\n",
       " 'Div3WheelsOn',\n",
       " 'Div3TotalGTime',\n",
       " 'Div3LongestGTime',\n",
       " 'Div3WheelsOff',\n",
       " 'Div3TailNum',\n",
       " 'Div4Airport',\n",
       " 'Div4AirportID',\n",
       " 'Div4AirportSeqID',\n",
       " 'Div4WheelsOn',\n",
       " 'Div4TotalGTime',\n",
       " 'Div4LongestGTime',\n",
       " 'Div4WheelsOff',\n",
       " 'Div4TailNum',\n",
       " 'Div5Airport',\n",
       " 'Div5AirportID',\n",
       " 'Div5AirportSeqID',\n",
       " 'Div5WheelsOn',\n",
       " 'Div5TotalGTime',\n",
       " 'Div5LongestGTime',\n",
       " 'Div5WheelsOff',\n",
       " 'Div5TailNum',\n",
       " '_c109']"
      ]
     },
     "execution_count": 5,
     "metadata": {},
     "output_type": "execute_result"
    }
   ],
   "source": [
    "# 2. Report the name of the columns and the nb of rows in the dataset.\n",
    "df.columns"
   ]
  },
  {
   "cell_type": "code",
   "execution_count": 6,
   "metadata": {},
   "outputs": [
    {
     "name": "stdout",
     "output_type": "stream",
     "text": [
      "The nb. of records in the dataset is : 469489\n"
     ]
    }
   ],
   "source": [
    "print('The nb. of records in the dataset is : %d' % df.count())"
   ]
  },
  {
   "cell_type": "code",
   "execution_count": 5,
   "metadata": {},
   "outputs": [],
   "source": [
    "# 3a. Create a in-memory DataFrame \n",
    "df.registerTempTable(\"flights\")"
   ]
  },
  {
   "cell_type": "code",
   "execution_count": 8,
   "metadata": {
    "collapsed": true
   },
   "outputs": [],
   "source": [
    "# 3b. And a permantely stored table from this DataFrame.\n",
    "df.write.saveAsTable(\"flights_table\")"
   ]
  },
  {
   "cell_type": "code",
   "execution_count": 6,
   "metadata": {},
   "outputs": [
    {
     "name": "stdout",
     "output_type": "stream",
     "text": [
      "+------+-----+\n",
      "|origin|count|\n",
      "+------+-----+\n",
      "|   ATL|30196|\n",
      "|   ORD|24870|\n",
      "|   DFW|23025|\n",
      "|   DEN|18935|\n",
      "|   LAX|17589|\n",
      "|   SFO|13878|\n",
      "|   IAH|13496|\n",
      "|   PHX|12126|\n",
      "|   LAS|11231|\n",
      "|   SEA| 9316|\n",
      "+------+-----+\n",
      "only showing top 10 rows\n",
      "\n"
     ]
    }
   ],
   "source": [
    "# 4. Report the top 10 airport with most departures in the dataset. Make both use of the DataFrame API and a direct SQL query for this.\n",
    "# 4a. With DataFrame API ( subset the ones that actually flown , i.e , not cancelled)\n",
    "df.groupBy('origin').count().sort('count',ascending=False).show(10)"
   ]
  },
  {
   "cell_type": "code",
   "execution_count": 7,
   "metadata": {},
   "outputs": [
    {
     "name": "stdout",
     "output_type": "stream",
     "text": [
      "+------+-----+\n",
      "|origin|count|\n",
      "+------+-----+\n",
      "|   ATL|30196|\n",
      "|   ORD|24870|\n",
      "|   DFW|23025|\n",
      "|   DEN|18935|\n",
      "|   LAX|17589|\n",
      "|   SFO|13878|\n",
      "|   IAH|13496|\n",
      "|   PHX|12126|\n",
      "|   LAS|11231|\n",
      "|   SEA| 9316|\n",
      "+------+-----+\n",
      "\n"
     ]
    }
   ],
   "source": [
    "# 4b. With SQL API\n",
    "query='SELECT origin,COUNT(*) as count FROM flights GROUP BY origin ORDER BY count DESC LIMIT 10'\n",
    "top_10=spark.sql(query)\n",
    "top_10.show()"
   ]
  },
  {
   "cell_type": "code",
   "execution_count": 28,
   "metadata": {},
   "outputs": [],
   "source": [
    "# 5. Save a subset DataFrame that only contains :\n",
    "# carrier , airport and departure delays , partitioning the output by carrier and airport into parquet format.\n",
    "sub_df=df.select('origin','carrier','depdelay')"
   ]
  },
  {
   "cell_type": "code",
   "execution_count": 29,
   "metadata": {},
   "outputs": [
    {
     "name": "stdout",
     "output_type": "stream",
     "text": [
      "Saved dataset subset!\n"
     ]
    }
   ],
   "source": [
    "my_home=os.environ['HOME']\n",
    "out_dir=\"assignment3_out\"\n",
    "sub_df.write.partitionBy(\n",
    "        \"carrier\",\"origin\"\n",
    "    ).parquet(\n",
    "        \"file://\"\n",
    "        + my_home\n",
    "        +'/'\n",
    "        + out_dir,\n",
    "        mode='overwrite'\n",
    "    )\n",
    "print('Saved dataset subset!')"
   ]
  },
  {
   "cell_type": "markdown",
   "metadata": {},
   "source": [
    "### Bonus Part"
   ]
  },
  {
   "cell_type": "code",
   "execution_count": 35,
   "metadata": {},
   "outputs": [
    {
     "name": "stdout",
     "output_type": "stream",
     "text": [
      "+------+----+---------+-------+-------------------+--------+\n",
      "|origin|dest|flightNum|carrier|         FlightDate|depdelay|\n",
      "+------+----+---------+-------+-------------------+--------+\n",
      "|   AUS| JFK|      290|     AA|2014-09-09 00:00:00|  1727.0|\n",
      "+------+----+---------+-------+-------------------+--------+\n",
      "\n"
     ]
    }
   ],
   "source": [
    "# 1.What is the flight with the longest delay\n",
    "query='SELECT origin,dest,flightNum,carrier,FlightDate,depdelay FROM flights ORDER BY depdelay DESC LIMIT 1'\n",
    "top_1_delayed=spark.sql(query)\n",
    "top_1_delayed.show()"
   ]
  },
  {
   "cell_type": "code",
   "execution_count": 9,
   "metadata": {},
   "outputs": [
    {
     "name": "stdout",
     "output_type": "stream",
     "text": [
      "+-------+------------------+\n",
      "|carrier|     avg(depdelay)|\n",
      "+-------+------------------+\n",
      "|     HA| 0.938279604730277|\n",
      "|     AS|1.0673555589078292|\n",
      "|     B6|1.6728524865944696|\n",
      "|     US| 2.728345857799142|\n",
      "|     FL| 4.245584874298774|\n",
      "+-------+------------------+\n",
      "\n"
     ]
    }
   ],
   "source": [
    "# 2. Report the best , top 5 , carriers ( column carrier ) \n",
    "# in terms of smallest average departure delay on all airports. \n",
    "# Consider a flight delayed that one where depdelay > 0 min\n",
    "\n",
    "#~ TODO! : NEED TO RECHECK THIS! (take into account thershold?)\n",
    "query = \"SELECT carrier,AVG(depdelay) FROM flights GROUP BY carrier ORDER BY avg(depdelay) ASC LIMIT 5\"\n",
    "\n",
    "best_carriers=spark.sql(query)\n",
    "best_carriers.show()"
   ]
  },
  {
   "cell_type": "code",
   "execution_count": 10,
   "metadata": {},
   "outputs": [
    {
     "name": "stdout",
     "output_type": "stream",
     "text": [
      "+-------+------------------+\n",
      "|carrier|     avg(depdelay)|\n",
      "+-------+------------------+\n",
      "|     FL|22.203951561504145|\n",
      "|     WN|24.824700077173127|\n",
      "|     DL|25.077322801912285|\n",
      "|     US|26.357843137254903|\n",
      "|     AS|26.533774834437086|\n",
      "+-------+------------------+\n",
      "only showing top 5 rows\n",
      "\n"
     ]
    }
   ],
   "source": [
    "# Alternative\n",
    "df \\\n",
    "    .filter(df['depdelay']>0.0) \\\n",
    "    .groupBy('carrier') \\\n",
    "    .avg('depdelay') \\\n",
    "    .sort('avg(depdelay)',ascending=True) \\\n",
    "    .show(5)"
   ]
  },
  {
   "cell_type": "code",
   "execution_count": 48,
   "metadata": {},
   "outputs": [
    {
     "name": "stdout",
     "output_type": "stream",
     "text": [
      "+------+----+------------------+\n",
      "|origin|dest|     avg(depdelay)|\n",
      "+------+----+------------------+\n",
      "|   JFK| IAD| 49.64705882352941|\n",
      "|   JFK| IND|49.266666666666666|\n",
      "|   JFK| SRQ|              48.0|\n",
      "|   JFK| CVG|              46.0|\n",
      "|   JFK| DTW|              45.0|\n",
      "+------+----+------------------+\n",
      "only showing top 5 rows\n",
      "\n"
     ]
    }
   ],
   "source": [
    "# 3. Which destinations are most likely to get delays from JFK?\n",
    "from_JFK=df.filter(df['origin']=='JFK')\n",
    "from_JFK.filter(from_JFK['depdelay'] > 0) \\\n",
    "    .groupBy('origin', 'dest') \\\n",
    "    .avg('depdelay') \\\n",
    "    .sort('avg(depdelay)',ascending=False) \\\n",
    "    .show(5)"
   ]
  },
  {
   "cell_type": "code",
   "execution_count": null,
   "metadata": {
    "collapsed": true
   },
   "outputs": [],
   "source": []
  }
 ],
 "metadata": {
  "kernelspec": {
   "display_name": "Python 3",
   "language": "python",
   "name": "python3"
  },
  "language_info": {
   "codemirror_mode": {
    "name": "ipython",
    "version": 3
   },
   "file_extension": ".py",
   "mimetype": "text/x-python",
   "name": "python",
   "nbconvert_exporter": "python",
   "pygments_lexer": "ipython3",
   "version": "3.6.4"
  }
 },
 "nbformat": 4,
 "nbformat_minor": 2
}
