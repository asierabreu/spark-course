{
 "cells": [
  {
   "cell_type": "markdown",
   "metadata": {},
   "source": [
    "### Assignment3 : Working with Spark SQL\n",
    "\n",
    "#### Concepts :\n",
    "\n",
    "* Creating DataFrames from CSV input data format\n",
    "* Performing basic data analysis using Spark SQL\n",
    "* Saving a DataFrame into partitioned parquet files format\n",
    "\n",
    "#### Assignment Dataset :\n",
    "\n",
    "* Air flight data - subset of ~ 100 MB (for demonstration purposes)\n",
    "* Available in the IE cluster @: /data/shared/spark/flight_data/csv_tiny\n",
    "\n",
    "#### Compulsory Part :\n",
    "\n",
    "1. Create a DataFrame by loading the input CSV dataset.\n",
    "2. Report the name of the columns and the nb of rows in the dataset. \n",
    "3. Create a in-memory DataFrame and a permantely stored table from this DataFrame.\n",
    "4. Report the top 10 airport with most departures in the dataset. Make both use of the DataFrame API and a direct SQL query for this.\n",
    "5. Save a subset DataFrame that only contains carrier , airport and departure delays , partitioning the output by carrier and airport into parquet format.\n",
    "\n",
    "#### Bonus Part :\n",
    "\n",
    "1. What is the flight with the longest delay\n",
    "2. Report the best , top 5 , carriers ( column carrier ) in terms of smallest average departure delay on all airports.   Consider a flight delayed that one where depdelay > 0 min\n",
    "3. Which destinations are most likely to get delays from JFK?\n",
    "\n",
    "### Note : \n",
    "\n",
    "Usage of User Defined Functions is *not* strictly required for the assignment"
   ]
  },
  {
   "cell_type": "code",
   "execution_count": 16,
   "metadata": {},
   "outputs": [],
   "source": [
    "# You need this to run Spark in the cluster\n",
    "import findspark\n",
    "findspark.init()\n",
    "import pyspark"
   ]
  },
  {
   "cell_type": "code",
   "execution_count": 17,
   "metadata": {},
   "outputs": [],
   "source": [
    "dataset_path=\"/data/shared/spark/flight_data/csv_tiny/\""
   ]
  }
 ],
 "metadata": {
  "kernelspec": {
   "display_name": "Python 3",
   "language": "python",
   "name": "python3"
  },
  "language_info": {
   "codemirror_mode": {
    "name": "ipython",
    "version": 3
   },
   "file_extension": ".py",
   "mimetype": "text/x-python",
   "name": "python",
   "nbconvert_exporter": "python",
   "pygments_lexer": "ipython3",
   "version": "3.6.4"
  }
 },
 "nbformat": 4,
 "nbformat_minor": 2
}
