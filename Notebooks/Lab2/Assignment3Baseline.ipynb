{
 "cells": [
  {
   "cell_type": "markdown",
   "metadata": {},
   "source": [
    "---\n",
    "## Spark Course : Assignment3\n",
    "\n",
    "### Compulsory Part :\n",
    "\n",
    " 1. Create a SparkSession\n",
    " 2. Creta a Dataframe loading the dataset : Bank Products Marketing\n",
    " 3. Inspect the dataset and analyze it's structure (schema)\n",
    " 4. Report the number of columns and their names\n",
    " 5. Report the number of records in dataset\n",
    "\n",
    "\n",
    "### Advanced Analysis\n",
    "\n",
    "**Warn:** you will need to transform some column data types from string to a numeric format (float,double)\n",
    "\n",
    " 1. Compute (descriptive) statistics on numeric columns were applicable.\n",
    " 2. Compute nb. of people by age bin\n",
    " 3. Compute the mean value of Nb. of contacts performed during this campaign for each age range.\n",
    "\n",
    "### Save Your Notebook\n",
    "\n",
    "Once your finished save your notebook: \n",
    "\n",
    "1. Go File -> Download as Notebook (.ipynb)\n",
    "\n",
    "### Help:\n",
    "\n",
    "1. Spark SQL Programming Guide : https://spark.apache.org/docs/latest/sql-programming-guide.html\n",
    "\n",
    "### Datasets reference:\n",
    "\n",
    "https://archive.ics.uci.edu/ml/datasets/bank+marketing\n",
    "\n",
    "\n",
    "### Datasets local path:\n",
    "\n",
    "* $HOME/spark-course/data/bank/bank-full.csv\n",
    "\n",
    "---"
   ]
  },
  {
   "cell_type": "code",
   "execution_count": null,
   "metadata": {
    "collapsed": true
   },
   "outputs": [],
   "source": []
  }
 ],
 "metadata": {
  "kernelspec": {
   "display_name": "Python 3",
   "language": "python",
   "name": "python3"
  },
  "language_info": {
   "codemirror_mode": {
    "name": "ipython",
    "version": 3
   },
   "file_extension": ".py",
   "mimetype": "text/x-python",
   "name": "python",
   "nbconvert_exporter": "python",
   "pygments_lexer": "ipython3",
   "version": "3.6.3"
  }
 },
 "nbformat": 4,
 "nbformat_minor": 2
}
