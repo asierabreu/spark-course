{
 "cells": [
  {
   "cell_type": "markdown",
   "metadata": {},
   "source": [
    "### Assignment3 : Working with Spark SQL\n",
    "\n",
    "#### Concepts :\n",
    "\n",
    "* Creating DataFrames from CSV input data format\n",
    "* Performing basic data analysis using Spark SQL\n",
    "* Creating UDFs (User Defined Functions) and using them on the dataset\n",
    "* Saving a DataFrame into partitioned parquet files format\n",
    "\n",
    "#### Assignment Dataset :\n",
    "\n",
    "* Air flight data - subset of ~ 100 MB (for demonstration purposes)\n",
    "* Available in the IE cluster @: /data/shared/spark/flight_data/csv_tiny\n",
    "\n",
    "#### Compulsory Part :\n",
    "\n",
    "1. Create a DataFrame by loading the input CSV dataset.\n",
    "2. Report the name of the columns and the nb of rows in the dataset. \n",
    "3. Create BOTH a temporary SQL table and a permantely stored table from this DataFrame.\n",
    "4. Report the best , top 5 , carriers ( column carrier ) in terms of smallest average departure delay on all airports.\n",
    "5. Save a subset DataFrame that only contains carrier , airport and departure delays , partitioning the output by carrier and airport into parquet format.\n",
    "\n",
    "#### Bonus Part :\n",
    "\n",
    "* Do something a bit more clever. TBD\n",
    "\n"
   ]
  },
  {
   "cell_type": "code",
   "execution_count": 31,
   "metadata": {},
   "outputs": [],
   "source": [
    "# YOU NEED THIS FOR SPARK TO WORK IN THE CLUSTER\n",
    "import findspark\n",
    "findspark.init()\n",
    "import pyspark"
   ]
  },
  {
   "cell_type": "code",
   "execution_count": 1,
   "metadata": {},
   "outputs": [],
   "source": [
    "dataset_path=\"/data/shared/spark/flight_data/csv_tiny/\""
   ]
  },
  {
   "cell_type": "code",
   "execution_count": null,
   "metadata": {},
   "outputs": [],
   "source": []
  }
 ],
 "metadata": {
  "kernelspec": {
   "display_name": "Python 3",
   "language": "python",
   "name": "python3"
  },
  "language_info": {
   "codemirror_mode": {
    "name": "ipython",
    "version": 3
   },
   "file_extension": ".py",
   "mimetype": "text/x-python",
   "name": "python",
   "nbconvert_exporter": "python",
   "pygments_lexer": "ipython3",
   "version": "3.6.4"
  }
 },
 "nbformat": 4,
 "nbformat_minor": 2
}
